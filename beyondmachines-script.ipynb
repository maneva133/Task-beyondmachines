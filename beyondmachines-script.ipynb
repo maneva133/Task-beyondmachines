{
 "cells": [
  {
   "cell_type": "code",
   "execution_count": 1,
   "id": "6af7c5bf-b442-45b4-bfd4-b155e0615383",
   "metadata": {},
   "outputs": [],
   "source": [
    "import pandas as pd"
   ]
  },
  {
   "cell_type": "code",
   "execution_count": 2,
   "id": "699eec12-20e4-4fe5-8da7-a36cf670cd29",
   "metadata": {},
   "outputs": [],
   "source": [
    "df = pd.read_csv('Downloads\\\\access_log.csv', delimiter='\\t',header=None, names=['raw']) "
   ]
  },
  {
   "cell_type": "code",
   "execution_count": 3,
   "id": "d8eb84db-47f6-4a83-9703-6c6badc9b5f7",
   "metadata": {},
   "outputs": [
    {
     "data": {
      "text/html": [
       "<div>\n",
       "<style scoped>\n",
       "    .dataframe tbody tr th:only-of-type {\n",
       "        vertical-align: middle;\n",
       "    }\n",
       "\n",
       "    .dataframe tbody tr th {\n",
       "        vertical-align: top;\n",
       "    }\n",
       "\n",
       "    .dataframe thead th {\n",
       "        text-align: right;\n",
       "    }\n",
       "</style>\n",
       "<table border=\"1\" class=\"dataframe\">\n",
       "  <thead>\n",
       "    <tr style=\"text-align: right;\">\n",
       "      <th></th>\n",
       "      <th>raw</th>\n",
       "    </tr>\n",
       "  </thead>\n",
       "  <tbody>\n",
       "    <tr>\n",
       "      <th>0</th>\n",
       "      <td>104.28.97.142 - - [06/May/2025:08:14:12 +0000]...</td>\n",
       "    </tr>\n",
       "    <tr>\n",
       "      <th>1</th>\n",
       "      <td>104.28.97.142 - - [06/May/2025:08:14:15 +0000]...</td>\n",
       "    </tr>\n",
       "    <tr>\n",
       "      <th>2</th>\n",
       "      <td>104.28.97.142 - - [06/May/2025:08:14:16 +0000]...</td>\n",
       "    </tr>\n",
       "    <tr>\n",
       "      <th>3</th>\n",
       "      <td>104.28.97.142 - - [06/May/2025:08:14:18 +0000]...</td>\n",
       "    </tr>\n",
       "    <tr>\n",
       "      <th>4</th>\n",
       "      <td>185.173.35.19 - - [06/May/2025:08:15:27 +0000]...</td>\n",
       "    </tr>\n",
       "    <tr>\n",
       "      <th>...</th>\n",
       "      <td>...</td>\n",
       "    </tr>\n",
       "    <tr>\n",
       "      <th>178</th>\n",
       "      <td>45.33.49.201 - - [06/May/2025:19:27:35 +0000] ...</td>\n",
       "    </tr>\n",
       "    <tr>\n",
       "      <th>179</th>\n",
       "      <td>157.240.195.61 - - [06/May/2025:19:32:18 +0000...</td>\n",
       "    </tr>\n",
       "    <tr>\n",
       "      <th>180</th>\n",
       "      <td>104.16.248.131 - - [06/May/2025:19:38:45 +0000...</td>\n",
       "    </tr>\n",
       "    <tr>\n",
       "      <th>181</th>\n",
       "      <td>104.16.248.131 - - [06/May/2025:19:38:47 +0000...</td>\n",
       "    </tr>\n",
       "    <tr>\n",
       "      <th>182</th>\n",
       "      <td>104.16.248.131 - - [06/May/2025:19:39:28 +0000...</td>\n",
       "    </tr>\n",
       "  </tbody>\n",
       "</table>\n",
       "<p>183 rows × 1 columns</p>\n",
       "</div>"
      ],
      "text/plain": [
       "                                                   raw\n",
       "0    104.28.97.142 - - [06/May/2025:08:14:12 +0000]...\n",
       "1    104.28.97.142 - - [06/May/2025:08:14:15 +0000]...\n",
       "2    104.28.97.142 - - [06/May/2025:08:14:16 +0000]...\n",
       "3    104.28.97.142 - - [06/May/2025:08:14:18 +0000]...\n",
       "4    185.173.35.19 - - [06/May/2025:08:15:27 +0000]...\n",
       "..                                                 ...\n",
       "178  45.33.49.201 - - [06/May/2025:19:27:35 +0000] ...\n",
       "179  157.240.195.61 - - [06/May/2025:19:32:18 +0000...\n",
       "180  104.16.248.131 - - [06/May/2025:19:38:45 +0000...\n",
       "181  104.16.248.131 - - [06/May/2025:19:38:47 +0000...\n",
       "182  104.16.248.131 - - [06/May/2025:19:39:28 +0000...\n",
       "\n",
       "[183 rows x 1 columns]"
      ]
     },
     "execution_count": 3,
     "metadata": {},
     "output_type": "execute_result"
    }
   ],
   "source": [
    "df"
   ]
  },
  {
   "cell_type": "code",
   "execution_count": 4,
   "id": "4e80aacc-498a-482c-9b32-5c183a4c905e",
   "metadata": {},
   "outputs": [
    {
     "name": "stdout",
     "output_type": "stream",
     "text": [
      "              ip                        time method                      url  \\\n",
      "0  104.28.97.142  06/May/2025:08:14:12 +0000    GET                        /   \n",
      "1  104.28.97.142  06/May/2025:08:14:15 +0000    GET     /assets/css/main.css   \n",
      "2  104.28.97.142  06/May/2025:08:14:16 +0000    GET     /assets/js/script.js   \n",
      "3  104.28.97.142  06/May/2025:08:14:18 +0000    GET  /assets/images/logo.png   \n",
      "4  185.173.35.19  06/May/2025:08:15:27 +0000    GET              /about.html   \n",
      "\n",
      "  status                                         user_agent  \n",
      "0    200  Mozilla/5.0 (Windows NT 10.0; Win64; x64) Appl...  \n",
      "1    200  Mozilla/5.0 (Windows NT 10.0; Win64; x64) Appl...  \n",
      "2    200  Mozilla/5.0 (Windows NT 10.0; Win64; x64) Appl...  \n",
      "3    200  Mozilla/5.0 (Windows NT 10.0; Win64; x64) Appl...  \n",
      "4    200  Mozilla/5.0 (Windows NT 10.0; Win64; x64) Appl...  \n"
     ]
    }
   ],
   "source": [
    "import re\n",
    "\n",
    "pattern = re.compile(\n",
    "    r'(?P<ip>\\S+) - - \\[(?P<time>.*?)\\] \"(?P<method>\\S+) (?P<url>\\S+) \\S+\" (?P<status>\\d+) \\S+ \".*?\" \"(?P<user_agent>.*?)\"'\n",
    ")\n",
    "\n",
    "def parse_log(line):\n",
    "    match = pattern.match(line)\n",
    "    if match:\n",
    "        return match.groupdict()\n",
    "    else:\n",
    "        return None\n",
    "\n",
    "parsed = df['raw'].apply(parse_log)\n",
    "parsed_df = pd.DataFrame([x for x in parsed if x is not None])\n",
    "\n",
    "print(parsed_df.head())\n"
   ]
  },
  {
   "cell_type": "code",
   "execution_count": 5,
   "id": "98e908ff-ef8e-496d-b304-82f77226a3ab",
   "metadata": {},
   "outputs": [
    {
     "name": "stdout",
     "output_type": "stream",
     "text": [
      "ip\n",
      "45.33.49.201      52\n",
      "121.18.83.75      16\n",
      "104.28.97.142     10\n",
      "93.184.216.34      8\n",
      "104.16.248.131     7\n",
      "185.173.35.19      6\n",
      "203.0.113.42       6\n",
      "216.58.212.110     6\n",
      "213.87.160.214     5\n",
      "41.82.97.189       5\n",
      "193.58.156.12      5\n",
      "209.141.55.224     2\n",
      "91.189.91.39       2\n",
      "180.76.5.26        2\n",
      "198.51.100.73      2\n",
      "157.240.195.61     2\n",
      "81.2.69.142        1\n",
      "70.35.197.74       1\n",
      "Name: count, dtype: int64\n"
     ]
    }
   ],
   "source": [
    "suspicious_patterns = ['select', 'union', '../', '.env', 'wp-login', 'wp-admin', '.git', 'passwd', 'config']\n",
    "mask = parsed_df['url'].str.contains('|'.join(suspicious_patterns), case=False, na=False)\n",
    "\n",
    "suspicious_requests = parsed_df[mask]\n",
    "print(suspicious_requests['ip'].value_counts())\n"
   ]
  },
  {
   "cell_type": "code",
   "execution_count": 6,
   "id": "59d41f91-89d4-4555-9db2-8163197af61b",
   "metadata": {},
   "outputs": [
    {
     "data": {
      "text/plain": [
       "Index(['ip', 'time', 'method', 'url', 'status', 'user_agent'], dtype='object')"
      ]
     },
     "execution_count": 6,
     "metadata": {},
     "output_type": "execute_result"
    }
   ],
   "source": [
    "suspicious_requests.columns"
   ]
  },
  {
   "cell_type": "code",
   "execution_count": 7,
   "id": "8e2425ff-e215-4916-a45f-916c382cf5ff",
   "metadata": {},
   "outputs": [
    {
     "data": {
      "text/plain": [
       "array(['Mozilla/5.0 (Windows NT 10.0; Win64; x64) AppleWebKit/537.36 (KHTML, like Gecko) Chrome/123.0.0.0 Safari/537.36',\n",
       "       'Mozilla/5.0 (Macintosh; Intel Mac OS X 10_15_7) AppleWebKit/605.1.15 (KHTML, like Gecko) Version/17.4 Safari/605.1.15',\n",
       "       'Mozilla/5.0 (compatible; Googlebot/2.1; +http://www.google.com/bot.html)',\n",
       "       'Mozilla/5.0 (iPhone; CPU iPhone OS 17_4 like Mac OS X) AppleWebKit/605.1.15 (KHTML, like Gecko) Version/17.4 Mobile/15E148 Safari/604.1',\n",
       "       'Mozilla/5.0 (X11; Ubuntu; Linux x86_64; rv:123.0) Gecko/20100101 Firefox/123.0',\n",
       "       'Mozilla/5.0 (X11; Linux x86_64; rv:109.0) Gecko/20100101 Firefox/115.0',\n",
       "       'Mozilla/5.0 (Windows NT 10.0; Win64; x64; rv:123.0) Gecko/20100101 Firefox/123.0',\n",
       "       'PostmanRuntime/7.32.3',\n",
       "       'Mozilla/5.0 (Linux; Android 13; SM-S908B) AppleWebKit/537.36 (KHTML, like Gecko) Chrome/123.0.0.0 Mobile Safari/537.36',\n",
       "       'okhttp/4.9.2',\n",
       "       'Mozilla/5.0 (Linux; Android 13; SM-S918B) AppleWebKit/537.36 (KHTML, like Gecko) Chrome/123.0.0.0 Mobile Safari/537.36',\n",
       "       'Mozilla/5.0 (Windows NT 10.0; Win64; x64) AppleWebKit/537.36 (KHTML, like Gecko) Edge/123.0.0.0 Safari/537.36',\n",
       "       'Mozilla/5.0 (Linux; Android 10; K) AppleWebKit/537.36 (KHTML, like Gecko) Chrome/122.0.0.0 Mobile Safari/537.36',\n",
       "       'Mozilla/5.0 (Linux; Android 14; SM-S918B) AppleWebKit/537.36 (KHTML, like Gecko) Chrome/123.0.0.0 Mobile Safari/537.36',\n",
       "       'python-requests/2.31.0',\n",
       "       'Mozilla/5.0 (compatible; Nmap Scripting Engine; https://nmap.org/book/nse.html)',\n",
       "       'Mozilla/5.0 (Windows NT 10.0; Win64; x64; Trident/7.0; rv:11.0) like Gecko',\n",
       "       'Mozilla/5.0 (Windows NT 6.1; WOW64) AppleWebKit/537.36 (KHTML, like Gecko) Chrome/55.0.2883.87 Safari/537.36'],\n",
       "      dtype=object)"
      ]
     },
     "execution_count": 7,
     "metadata": {},
     "output_type": "execute_result"
    }
   ],
   "source": [
    "parsed_df['user_agent'].unique()\n"
   ]
  },
  {
   "cell_type": "code",
   "execution_count": 10,
   "id": "46cf41d2-aab2-405d-849a-9004e1476d0f",
   "metadata": {},
   "outputs": [],
   "source": [
    "def classify_user_agent(ua):\n",
    "    ua = ua.lower()\n",
    "    if 'googlebot' in ua:\n",
    "        return 'search_bot'\n",
    "    elif 'postman' in ua or 'python-requests' in ua or 'okhttp' in ua:\n",
    "        return 'automation'\n",
    "    elif 'nmap' in ua:\n",
    "        return 'scanner'\n",
    "    elif 'chrome' in ua or 'firefox' in ua or 'safari' in ua or 'edge' in ua:\n",
    "        return 'browser'\n",
    "    else:\n",
    "        return 'unknown'\n"
   ]
  },
  {
   "cell_type": "code",
   "execution_count": 11,
   "id": "07fc0a89-a0e1-4eee-bfc7-39b943b9f6e4",
   "metadata": {},
   "outputs": [],
   "source": [
    "parsed_df['agent_type'] = parsed_df['user_agent'].apply(classify_user_agent)\n"
   ]
  },
  {
   "cell_type": "code",
   "execution_count": 12,
   "id": "28db0190-2a78-41bd-b47a-0a53aa4aa9d4",
   "metadata": {},
   "outputs": [
    {
     "data": {
      "text/plain": [
       "array(['browser', 'search_bot', 'automation', 'scanner', 'unknown'],\n",
       "      dtype=object)"
      ]
     },
     "execution_count": 12,
     "metadata": {},
     "output_type": "execute_result"
    }
   ],
   "source": [
    "parsed_df['agent_type'].unique()"
   ]
  },
  {
   "cell_type": "code",
   "execution_count": 16,
   "id": "bcfa1406-60a8-4da0-b8a9-11c99c535001",
   "metadata": {},
   "outputs": [],
   "source": [
    "def filter_requests_by_ip(df, ip_prefix):\n",
    "    return df[df['ip'].str.startswith(ip_prefix)][['method','url', 'status', 'time','agent_type']]\n"
   ]
  },
  {
   "cell_type": "code",
   "execution_count": 19,
   "id": "d134b9d1-8358-4796-8e79-6e12a7e32eff",
   "metadata": {},
   "outputs": [
    {
     "name": "stdin",
     "output_type": "stream",
     "text": [
      "Enter IP address or prefix:  180.76.5.26\n"
     ]
    },
    {
     "name": "stdout",
     "output_type": "stream",
     "text": [
      "method                                      url status                       time agent_type\n",
      "   GET /api/products?category=gaming&sort=price    200 06/May/2025:12:22:19 +0000    browser\n",
      "   GET         /api/products?category=furniture    200 06/May/2025:16:34:27 +0000    browser\n"
     ]
    }
   ],
   "source": [
    "ip = input(\"Enter IP address or prefix: \")\n",
    "filtered_df = filter_requests_by_ip(parsed_df, ip)\n",
    "print(filtered_df.to_string(index=False))\n"
   ]
  },
  {
   "cell_type": "code",
   "execution_count": null,
   "id": "d9debe8a-b1b7-429b-b879-9aad632998a4",
   "metadata": {},
   "outputs": [],
   "source": []
  }
 ],
 "metadata": {
  "kernelspec": {
   "display_name": "Python 3 (ipykernel)",
   "language": "python",
   "name": "python3"
  },
  "language_info": {
   "codemirror_mode": {
    "name": "ipython",
    "version": 3
   },
   "file_extension": ".py",
   "mimetype": "text/x-python",
   "name": "python",
   "nbconvert_exporter": "python",
   "pygments_lexer": "ipython3",
   "version": "3.12.7"
  }
 },
 "nbformat": 4,
 "nbformat_minor": 5
}
